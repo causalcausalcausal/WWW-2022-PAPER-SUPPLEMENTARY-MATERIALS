{
 "cells": [
  {
   "cell_type": "code",
   "execution_count": 6,
   "id": "essential-joining",
   "metadata": {},
   "outputs": [],
   "source": [
    "import dask.dataframe as dd\n",
    "import sys\n",
    "import os\n",
    "import random\n",
    "import pandas as pd\n",
    "import numpy as np\n"
   ]
  },
  {
   "cell_type": "code",
   "execution_count": 7,
   "id": "serious-magic",
   "metadata": {},
   "outputs": [],
   "source": [
    "def getT(x):\n",
    "    if(x.A==0):\n",
    "        return 0\n",
    "    return 1\n",
    "def getT1(x):\n",
    "    if(x.A==1):\n",
    "        return 1\n",
    "    return 0\n",
    "def getT2(x):\n",
    "    if(x.A==2):\n",
    "        return 1\n",
    "    return 0\n",
    "def getT3(x):\n",
    "    if(x.A==3):\n",
    "        return 1\n",
    "    return 0\n",
    "def getT4(x):\n",
    "    if(x.A==4):\n",
    "        return 1\n",
    "    return 0\n",
    "def getT0(x):\n",
    "    if(x.A==0):\n",
    "        return 1\n",
    "    return 0"
   ]
  },
  {
   "cell_type": "code",
   "execution_count": 8,
   "id": "greater-signal",
   "metadata": {},
   "outputs": [],
   "source": [
    "##train\n",
    "for i in [5,10,15,20]:\n",
    "    df=pd.read_csv(\"../../../Data/Synthetic_data/\"+str(i)+\"Weight_SimulationDataAllTraining.csv\")\n",
    "    df=df[['H1','H2','H3','H4','A','Value']]\n",
    "    df['T1']=df.apply(getT1,axis=1)\n",
    "    df['T2']=df.apply(getT2,axis=1)\n",
    "    df['T3']=df.apply(getT3,axis=1)\n",
    "    #df_1=df[(df['A']==0) | (df['A']==1)]\n",
    "    #df_2=df[(df['A']==0) | (df['A']==2)]\n",
    "    #df_3=df[(df['A']==0) | (df['A']==3)]\n",
    "    #df_1['T']=df_1.apply(getT,axis=1)\n",
    "    #df_2['T']=df_2.apply(getT,axis=1)\n",
    "    #df_3['T']=df_3.apply(getT,axis=1)\n",
    "    #df_1=df_1[['H1','H2','H3','H4','T','Value']]\n",
    "    #df_2=df_2[['H1','H2','H3','H4','T','Value']]\n",
    "    #df_3=df_3[['H1','H2','H3','H4','T','Value']]\n",
    "    #df_1.to_csv(\"./MBCF_train_5uw_1.csv\",header=None,sep=' ',index=False)\n",
    "    #df_2.to_csv(\"./MBCF_train_5uw_2.csv\",header=None,sep=' ',index=False)\n",
    "    #df_3.to_csv(\"./MBCF_train_5uw_3.csv\",header=None,sep=' ',index=False)\n",
    "    df[['H1','H2','H3','H4','Value','T1','T2','T3']].to_csv(\"./data/train_data_\"+str(i)+\"uw.csv\",header=None,index=False,sep=' ')\n",
    "\n",
    "    ##test\n",
    "    test=pd.read_csv(\"../../../Data/Synthetic_data/\"+str(i)+\"Weight_SimulationDataAllTest.csv\")\n",
    "    test=test[['H1','H2','H3','H4','A','Value']]\n",
    "    test.to_csv(\"./data/test_data_\"+str(i)+\"uw.csv\",header=None,sep=' ',index=False)\n",
    "    # test.to_csv(\"./test_data_5uw.csv\",header=None,sep=' ',index=False)\n",
    "\n"
   ]
  }
 ],
 "metadata": {
  "kernelspec": {
   "display_name": "Python 3",
   "language": "python",
   "name": "python3"
  },
  "language_info": {
   "codemirror_mode": {
    "name": "ipython",
    "version": 3
   },
   "file_extension": ".py",
   "mimetype": "text/x-python",
   "name": "python",
   "nbconvert_exporter": "python",
   "pygments_lexer": "ipython3",
   "version": "3.7.10"
  }
 },
 "nbformat": 4,
 "nbformat_minor": 5
}
