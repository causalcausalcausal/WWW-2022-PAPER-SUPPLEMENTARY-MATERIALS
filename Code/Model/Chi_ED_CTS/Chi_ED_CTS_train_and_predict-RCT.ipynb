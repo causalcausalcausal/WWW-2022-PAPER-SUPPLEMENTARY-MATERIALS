{
 "cells": [
  {
   "cell_type": "code",
   "execution_count": 4,
   "id": "scientific-reward",
   "metadata": {},
   "outputs": [],
   "source": [
    "from causalml.inference.tree import UpliftRandomForestClassifier\n",
    "import pandas as pd\n",
    "import numpy as np"
   ]
  },
  {
   "cell_type": "code",
   "execution_count": 6,
   "id": "convinced-metabolism",
   "metadata": {},
   "outputs": [
    {
     "name": "stderr",
     "output_type": "stream",
     "text": [
      "invalid value encountered in sqrt\n",
      "invalid value encountered in sqrt\n",
      "invalid value encountered in sqrt\n",
      "invalid value encountered in sqrt\n",
      "invalid value encountered in sqrt\n",
      "invalid value encountered in sqrt\n"
     ]
    }
   ],
   "source": [
    "train = pd.read_csv(\"../../../Data/RCT_data/rct_training.csv\"  )\n",
    "test = pd.read_csv(\"../../../Data/RCT_data/rct_test.csv\" )\n",
    "train.exp_group = train.exp_group.astype(str)\n",
    "features = ['c0', 'c1', 'c2', 'c3', 'c4', 'c5', 'c6', 'c7', 'c8', 'c9', 'c10',\n",
    "   'c11', 'c12', 'c13']\n",
    "\n",
    "\n",
    "Chi_uplift_model = UpliftRandomForestClassifier(n_estimators=300, evaluationFunction = \"Chi\", \n",
    "                                        max_depth = 5,min_samples_leaf=100, \n",
    "                                        min_samples_treatment=50,n_reg=100,control_name='0', n_jobs=1,normalization=True)\n",
    "Chi_uplift_model.fit(X=train[features].values, treatment=train['exp_group'].values, y=train['label'].values)\n",
    "Chi_pred = Chi_uplift_model.predict(test[features].values)\n",
    "Chi_test_result = pd.DataFrame(Chi_pred,columns=Chi_uplift_model.classes_)\n",
    "Chi_test_result.to_csv('RCT_Chiresult')\n",
    "\n",
    "ED_uplift_model = UpliftRandomForestClassifier(n_estimators=300, evaluationFunction = \"ED\", \n",
    "                                        max_depth = 5,min_samples_leaf=100, \n",
    "                                        min_samples_treatment=50,n_reg=100,control_name='0', n_jobs=1,normalization=True)\n",
    "ED_uplift_model.fit(X=train[features].values, treatment=train['exp_group'].values, y=train['label'].values)\n",
    "ED_pred = ED_uplift_model.predict(test[features].values)\n",
    "ED_test_result = pd.DataFrame(ED_pred,columns=ED_uplift_model.classes_)\n",
    "ED_test_result.to_csv('RCT_EDresult')\n",
    "\n",
    "CTS_uplift_model = UpliftRandomForestClassifier(n_estimators=300, evaluationFunction = \"CTS\", \n",
    "                                        max_depth = 5,min_samples_leaf=100, \n",
    "                                        min_samples_treatment=50,n_reg=100,control_name='0', n_jobs=1,normalization=True)\n",
    "CTS_uplift_model.fit(X=train[features].values, treatment=train['exp_group'].values, y=train['label'].values)\n",
    "CTS_pred = CTS_uplift_model.predict(test[features].values)\n",
    "CTS_test_result = pd.DataFrame(CTS_pred,columns=CTS_uplift_model.classes_)\n",
    "CTS_test_result.to_csv('RCT_CTSresult')\n",
    "    \n",
    "    \n",
    "    "
   ]
  }
 ],
 "metadata": {
  "kernelspec": {
   "display_name": "Python 3",
   "language": "python",
   "name": "python3"
  },
  "language_info": {
   "codemirror_mode": {
    "name": "ipython",
    "version": 3
   },
   "file_extension": ".py",
   "mimetype": "text/x-python",
   "name": "python",
   "nbconvert_exporter": "python",
   "pygments_lexer": "ipython3",
   "version": "3.7.10"
  }
 },
 "nbformat": 4,
 "nbformat_minor": 5
}
