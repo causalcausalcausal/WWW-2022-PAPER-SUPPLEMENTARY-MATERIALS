{
 "cells": [
  {
   "cell_type": "code",
   "execution_count": 58,
   "id": "registered-leone",
   "metadata": {},
   "outputs": [],
   "source": [
    "import pandas as pd\n",
    "import numpy as np"
   ]
  },
  {
   "cell_type": "code",
   "execution_count": 59,
   "id": "amino-christian",
   "metadata": {},
   "outputs": [],
   "source": [
    "uncertaintyWList = [5,10,15,20]"
   ]
  },
  {
   "cell_type": "code",
   "execution_count": 60,
   "id": "convinced-committee",
   "metadata": {},
   "outputs": [
    {
     "name": "stdout",
     "output_type": "stream",
     "text": [
      "Chi_upper_bound: 1954988.2680917024\n",
      "ED_upper_bound: 1954988.2680917024\n",
      "CTS_upper_bound: 1955061.3204757099\n",
      "Chi_upper_bound: 1777466.6966452328\n",
      "ED_upper_bound: 1777497.1526545673\n",
      "CTS_upper_bound: 1777703.8924814018\n",
      "Chi_upper_bound: 1804313.816405876\n",
      "ED_upper_bound: 1804388.6855895934\n",
      "CTS_upper_bound: 1804670.010010871\n",
      "Chi_upper_bound: 1779487.9941815832\n",
      "ED_upper_bound: 1779557.9926038752\n",
      "CTS_upper_bound: 1780594.7806925252\n"
     ]
    }
   ],
   "source": [
    "for w in uncertaintyWList:\n",
    "    test = pd.read_csv(\"../../../Data/Synthetic_data/\" + str(w) + \"Weight_SimulationDataAllTest.csv\" )\n",
    "    \n",
    "    test[['H1', 'H2', 'H3', 'H4']]=test[['H1', 'H2', 'H3', 'H4']].round(5).round(1).astype(str)\n",
    "    test['ID'] = test['ID'].round(0).astype(str)\n",
    "    \n",
    "    test_pivot = test.pivot(index=['ID','H1','H2','H3','H4'],columns=\"A\",values=['Value','Cost']).reset_index()\n",
    "    test_pivot.columns=test_pivot.columns.droplevel()\n",
    "    test_pivot.columns=['ID', 'H1', 'H2', 'H3', 'H4','value0' ,'value1','value2','value3','cost0' ,'cost1','cost2','cost3']\n",
    "    \n",
    "    boolean = test_pivot.duplicated(subset=['ID'])\n",
    "    if boolean.any():\n",
    "        print('Duplicate_data')\n",
    "    \n",
    "    for model in ['Chi','ED','CTS']:\n",
    "        \n",
    "        modelresult = pd.read_csv(str(w)+model+'result',names = ['Dummy','pred1','pred2','pred3'],header=0)\n",
    "        model_final = test_pivot.copy()\n",
    "        model_final[['pred1','pred2','pred3']]=modelresult[['pred1','pred2','pred3']]\n",
    "\n",
    "        # Roi for each treatment\n",
    "        model_final['t_1_roi'] = model_final['pred1']/model_final['cost1']\n",
    "        model_final['t_2_roi'] = model_final['pred2']/model_final['cost2']\n",
    "        model_final['t_3_roi'] = model_final['pred3']/model_final['cost3']\n",
    "\n",
    "        # For each user i, select the treatment with max ROI\n",
    "        model_final['best_treatment_roi'] = np.where((model_final[['t_1_roi','t_2_roi','t_3_roi']] < 0).all(axis=1),0,model_final[['t_1_roi','t_2_roi','t_3_roi']].max(axis=1))\n",
    "        model_final['best_treatment']=np.where((model_final[['t_1_roi','t_2_roi','t_3_roi']] <0).all(axis=1),'control',model_final[['t_1_roi','t_2_roi','t_3_roi']].idxmax(axis=1))\n",
    "\n",
    "        coin_map = {'control':'value0','t_1_roi': 'value1','t_2_roi':'value2','t_3_roi':'value3'}\n",
    "        model_final['best_te'] = model_final['best_treatment'].map(coin_map)\n",
    "        idx, cols = pd.factorize(model_final['best_te'])\n",
    "        model_final['best_te_value'] = pd.DataFrame(model_final.reindex(cols,axis=1).to_numpy()[np.arange(len(model_final)),idx])\n",
    "        model_final['best_te_value'] = model_final['best_te_value'].fillna(0)\n",
    "\n",
    "        coin_map = {'control':'cost0','t_1_roi': 'cost1','t_2_roi':'cost2','t_3_roi':'cost3'}\n",
    "        model_final['best_te_cost'] = model_final['best_treatment'].map(coin_map)\n",
    "        idx, cols = pd.factorize(model_final['best_te_cost'])\n",
    "        model_final['best_te_cost'] = pd.DataFrame(model_final.reindex(cols,axis=1).to_numpy()[np.arange(len(model_final)),idx])\n",
    "        model_final['best_te_cost'] = model_final['best_te_cost'].fillna(0)\n",
    "\n",
    "        coin_map = {'control':'control','t_1_roi': 'pred1','t_2_roi':'pred2','t_3_roi':'pred3'}\n",
    "        model_final['best_te_pred'] = model_final['best_treatment'].map(coin_map)\n",
    "        idx, cols = pd.factorize(model_final['best_te_pred'])\n",
    "        model_final['best_te_pred'] = pd.DataFrame(model_final.reindex(cols,axis=1).to_numpy()[np.arange(len(model_final)),idx])\n",
    "        model_final['best_te_pred'] = model_final['best_te_pred'].fillna(0)\n",
    "\n",
    "        # Sort all users according to each user's max ROI in a descending order.\n",
    "        model_final = model_final.sort_values(by=['best_treatment_roi'],ascending=False)\n",
    "\n",
    "        budget = 1500000\n",
    "\n",
    "        model_final['cum_expense'] = (model_final['best_te_cost']).cumsum()\n",
    "\n",
    "        model_final['extra_expense'] = budget\n",
    "        model_final['cut_off_point'] = model_final['cum_expense'] <= model_final['extra_expense']\n",
    "        model_final['final_treatment_value'] =  np.where(model_final['cut_off_point'],model_final['best_te_value'],model_final['value0'])\n",
    "\n",
    "        model_final.to_csv(str(w)+model+'_final')\n",
    "        print(model+ '_upper_bound: ' + str(model_final.best_te_cost.sum()))"
   ]
  },
  {
   "cell_type": "code",
   "execution_count": null,
   "id": "premier-quantity",
   "metadata": {},
   "outputs": [],
   "source": []
  }
 ],
 "metadata": {
  "kernelspec": {
   "display_name": "Python 3",
   "language": "python",
   "name": "python3"
  },
  "language_info": {
   "codemirror_mode": {
    "name": "ipython",
    "version": 3
   },
   "file_extension": ".py",
   "mimetype": "text/x-python",
   "name": "python",
   "nbconvert_exporter": "python",
   "pygments_lexer": "ipython3",
   "version": "3.7.10"
  }
 },
 "nbformat": 4,
 "nbformat_minor": 5
}
