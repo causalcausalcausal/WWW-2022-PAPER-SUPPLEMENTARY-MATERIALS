{
 "cells": [
  {
   "cell_type": "code",
   "execution_count": 1,
   "id": "scientific-reward",
   "metadata": {},
   "outputs": [],
   "source": [
    "from causalml.inference.tree import UpliftRandomForestClassifier\n",
    "import pandas as pd\n",
    "import numpy as np"
   ]
  },
  {
   "cell_type": "code",
   "execution_count": 3,
   "id": "sunset-distributor",
   "metadata": {},
   "outputs": [],
   "source": [
    "uncertaintyWList = [5,10,15,20]"
   ]
  },
  {
   "cell_type": "code",
   "execution_count": null,
   "id": "convinced-metabolism",
   "metadata": {},
   "outputs": [],
   "source": [
    "for w in uncertaintyWList:\n",
    "    train = pd.read_csv(\"../../../Data/Synthetic_data/\" + str(w) + \"Weight_SimulationDataAllTraining.csv\" )\n",
    "    test = pd.read_csv(\"../../../Data/Synthetic_data/\" + str(w) + \"Weight_SimulationDataAllTest.csv\" )\n",
    "    train.A = train.A.astype(str)\n",
    "    features = ['H1', 'H2', 'H3', 'H4']\n",
    "    \n",
    "    \n",
    "    Chi_uplift_model = UpliftRandomForestClassifier(n_estimators=300, evaluationFunction = \"Chi\", \n",
    "                                            max_depth = 5,min_samples_leaf=100, \n",
    "                                            min_samples_treatment=50,n_reg=100,control_name='0', n_jobs=1,normalization=True)\n",
    "    Chi_uplift_model.fit(X=train[features].values, treatment=train['A'].values, y=train['Value'].values)\n",
    "    Chi_pred = Chi_uplift_model.predict(test[features].values)\n",
    "    Chi_test_result = pd.DataFrame(Chi_pred,columns=Chi_uplift_model.classes_)\n",
    "    Chi_test_result.to_csv(str(w)+'Chiresult')\n",
    "    \n",
    "    ED_uplift_model = UpliftRandomForestClassifier(n_estimators=300, evaluationFunction = \"ED\", \n",
    "                                            max_depth = 5,min_samples_leaf=100, \n",
    "                                            min_samples_treatment=50,n_reg=100,control_name='0', n_jobs=1,normalization=True)\n",
    "    ED_uplift_model.fit(X=train[features].values, treatment=train['A'].values, y=train['Value'].values)\n",
    "    ED_pred = ED_uplift_model.predict(test[features].values)\n",
    "    ED_test_result = pd.DataFrame(ED_pred,columns=ED_uplift_model.classes_)\n",
    "    ED_test_result.to_csv(str(w)+'EDresult')\n",
    "    \n",
    "    CTS_uplift_model = UpliftRandomForestClassifier(n_estimators=300, evaluationFunction = \"CTS\", \n",
    "                                            max_depth = 5,min_samples_leaf=100, \n",
    "                                            min_samples_treatment=50,n_reg=100,control_name='0', n_jobs=1,normalization=True)\n",
    "    CTS_uplift_model.fit(X=train[features].values, treatment=train['A'].values, y=train['Value'].values)\n",
    "    CTS_pred = CTS_uplift_model.predict(test[features].values)\n",
    "    CTS_test_result = pd.DataFrame(CTS_pred,columns=CTS_uplift_model.classes_)\n",
    "    CTS_test_result.to_csv(str(w)+'CTSresult')\n",
    "    \n",
    "    \n",
    "    "
   ]
  }
 ],
 "metadata": {
  "kernelspec": {
   "display_name": "Python 3",
   "language": "python",
   "name": "python3"
  },
  "language_info": {
   "codemirror_mode": {
    "name": "ipython",
    "version": 3
   },
   "file_extension": ".py",
   "mimetype": "text/x-python",
   "name": "python",
   "nbconvert_exporter": "python",
   "pygments_lexer": "ipython3",
   "version": "3.7.10"
  }
 },
 "nbformat": 4,
 "nbformat_minor": 5
}
