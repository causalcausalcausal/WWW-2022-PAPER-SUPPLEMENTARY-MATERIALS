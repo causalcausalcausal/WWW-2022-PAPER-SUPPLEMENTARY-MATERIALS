{
 "cells": [
  {
   "cell_type": "code",
   "execution_count": 1,
   "id": "simplified-attribute",
   "metadata": {},
   "outputs": [],
   "source": [
    "import pandas as pd\n",
    "import numpy as np\n",
    "from DGB_RCT import DGB"
   ]
  },
  {
   "cell_type": "code",
   "execution_count": 2,
   "id": "corresponding-fighter",
   "metadata": {},
   "outputs": [],
   "source": [
    "test = pd.read_csv(\"../../../Data/RCT_data/rct_test.csv\" )\n",
    "test_result = pd.read_csv(\"data_prep/RCTTreePartitionedTest.csv\")"
   ]
  },
  {
   "cell_type": "code",
   "execution_count": 4,
   "id": "loaded-provider",
   "metadata": {},
   "outputs": [],
   "source": [
    "test[['pred1','pred2','pred3','pred4','pred5','pred6','pred7']]=test_result[['A1_value_gain','A2_value_gain', \n",
    "                                             'A3_value_gain', 'A4_value_gain', 'A5_value_gain',\n",
    "                                             'A6_value_gain', 'A7_value_gain']]\n",
    "test_pivot = test.copy()\n",
    "\n",
    "cost = np.array([0.3, 0.5, 0.7, 1.0, 1.3, 1.6, 1.9])\n",
    "value = test_pivot[['pred1','pred2','pred3','pred4','pred5','pred6','pred7']].to_numpy()\n",
    "\n",
    "for budget in [300,400,500,600,700]:\n",
    "    model = DGB(budget,cost,value)\n",
    "    model.train()\n",
    "    df_dgb = model.save_to_dataframe(test_pivot)\n",
    "    indices, values, spend = model.generate_decisions()\n",
    "    df_dgb['final_coin'] = df_dgb['cost']\n",
    "    coin_map = {0:0.1,1: 0.4,2:0.6,3:0.8,4:1.1,5:1.4,6:1.7,7:2.0}\n",
    "    test_pivot['treatment'] = test_pivot['exp_group'].map(coin_map)\n",
    "    test_pivot['final_coin'] = test_pivot['final_coin'].round(1)\n",
    "    test_pivot['treatment'] = test_pivot['treatment'].round(1)\n",
    "    test_pivot['if_same'] = test_pivot['treatment'] == test_pivot['final_coin']\n",
    "    test_pivot['tmp_label'] =  np.where(test_pivot['if_same'],test_pivot['treatment'],0)\n",
    "    test_pivot.to_csv(str(budget)+'RCT_CT_ST_final.csv')"
   ]
  },
  {
   "cell_type": "code",
   "execution_count": null,
   "id": "dangerous-writing",
   "metadata": {},
   "outputs": [],
   "source": []
  }
 ],
 "metadata": {
  "kernelspec": {
   "display_name": "Python 3",
   "language": "python",
   "name": "python3"
  },
  "language_info": {
   "codemirror_mode": {
    "name": "ipython",
    "version": 3
   },
   "file_extension": ".py",
   "mimetype": "text/x-python",
   "name": "python",
   "nbconvert_exporter": "python",
   "pygments_lexer": "ipython3",
   "version": "3.7.10"
  }
 },
 "nbformat": 4,
 "nbformat_minor": 5
}
