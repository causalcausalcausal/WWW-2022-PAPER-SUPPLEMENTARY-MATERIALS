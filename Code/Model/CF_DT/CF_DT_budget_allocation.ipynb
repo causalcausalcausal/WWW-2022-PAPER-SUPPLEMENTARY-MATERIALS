{
 "cells": [
  {
   "cell_type": "code",
   "execution_count": 2,
   "id": "general-kentucky",
   "metadata": {},
   "outputs": [],
   "source": [
    "import pandas as pd\n",
    "import numpy as np\n",
    "from DGB import DGB"
   ]
  },
  {
   "cell_type": "code",
   "execution_count": 13,
   "id": "informational-annotation",
   "metadata": {},
   "outputs": [],
   "source": [
    "uncertaintyWList = [5,10,15,20]"
   ]
  },
  {
   "cell_type": "code",
   "execution_count": 14,
   "id": "metropolitan-testimony",
   "metadata": {},
   "outputs": [],
   "source": [
    "for w in uncertaintyWList:\n",
    "    test = pd.read_csv(\"../../../Data/Synthetic_data/\" + str(w) + \"Weight_SimulationDataAllTest.csv\" )\n",
    "    test_result = pd.read_csv(\"output/MBCF_uplift_\"+str(w)+\"uw_merged.csv\")\n",
    "\n",
    "    test[['H1', 'H2', 'H3', 'H4']]=test[['H1', 'H2', 'H3', 'H4']].round(5).round(1).astype(str)\n",
    "    test['ID'] = test['ID'].astype(int)\n",
    "\n",
    "    test_pivot = test.pivot(index=['ID','H1','H2','H3','H4'],columns=\"A\",values=['Value','Cost']).reset_index()\n",
    "    test_pivot.columns=test_pivot.columns.droplevel()\n",
    "    test_pivot.columns=['ID', 'H1', 'H2', 'H3', 'H4','value0' ,'value1','value2','value3','cost0' ,'cost1','cost2','cost3']\n",
    "\n",
    "    boolean = test_pivot.duplicated(subset=['ID'])\n",
    "    if boolean.any():\n",
    "        print('Duplicate_data')\n",
    "\n",
    "    test_pivot[['pred1','pred2','pred3']] = test_result[['predict_1', 'predict_2', 'predict_3']]\n",
    "  \n",
    "    budget = 1500000\n",
    "    cost = test_pivot[['cost1','cost2','cost3']].to_numpy()\n",
    "    value = test_pivot[['pred1','pred2','pred3']].to_numpy()\n",
    "    model = DGB(budget,cost,value)\n",
    "    model.train()\n",
    "\n",
    "    df_dgb = model.save_to_dataframe(test_pivot)\n",
    "    indices, values, spend = model.generate_decisions()\n",
    "    true_value = []\n",
    "    for i in indices:\n",
    "        true_value.append(df_dgb[['value1','value2','value3']].to_numpy()[i])\n",
    "    true_value_v2 = df_dgb['value0'].to_numpy().copy()\n",
    "    for ind, val in zip(indices, true_value):\n",
    "        i, j = ind\n",
    "        true_value_v2[i] = val\n",
    "    df_dgb['final_treatment_value'] = true_value_v2   \n",
    "    df_dgb.to_csv(str(w)+\"CF_DT_final\")"
   ]
  }
 ],
 "metadata": {
  "kernelspec": {
   "display_name": "Python 3",
   "language": "python",
   "name": "python3"
  },
  "language_info": {
   "codemirror_mode": {
    "name": "ipython",
    "version": 3
   },
   "file_extension": ".py",
   "mimetype": "text/x-python",
   "name": "python",
   "nbconvert_exporter": "python",
   "pygments_lexer": "ipython3",
   "version": "3.7.10"
  }
 },
 "nbformat": 4,
 "nbformat_minor": 5
}
