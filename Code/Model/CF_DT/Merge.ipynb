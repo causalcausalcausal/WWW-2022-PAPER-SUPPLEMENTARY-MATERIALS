{
 "cells": [
  {
   "cell_type": "code",
   "execution_count": 31,
   "id": "forced-brush",
   "metadata": {},
   "outputs": [],
   "source": [
    "import dask.dataframe as dd\n",
    "import sys\n",
    "import os\n",
    "import random\n",
    "import pandas as pd\n",
    "import numpy as np\n"
   ]
  },
  {
   "cell_type": "code",
   "execution_count": null,
   "id": "pointed-briefing",
   "metadata": {},
   "outputs": [],
   "source": []
  },
  {
   "cell_type": "code",
   "execution_count": 32,
   "id": "disciplinary-group",
   "metadata": {},
   "outputs": [],
   "source": [
    "for i in [5,10,15,20]:\n",
    "    predict_1=pd.read_csv(\"./output/MBCF_uplift_\"+str(i)+\"uw_1.csv\",header=None)\n",
    "    predict_1.columns=['predict']\n",
    "    predict_2=pd.read_csv(\"./output/MBCF_uplift_\"+str(i)+\"uw_2.csv\",header=None)\n",
    "    predict_2.columns=['predict']\n",
    "    predict_3=pd.read_csv(\"./output/MBCF_uplift_\"+str(i)+\"uw_3.csv\",header=None)\n",
    "    predict_3.columns=['predict']\n",
    "    test=pd.read_csv(\"./data/test_data_\"+str(i)+\"uw.csv\",sep=' ',header=None)\n",
    "    test.columns=['H1','H2','H3','H4',\"exp_group\",\"value\"]\n",
    "    test['predict_1']=predict_1['predict']\n",
    "    test['predict_2']=predict_2['predict']\n",
    "    test['predict_3']=predict_3['predict']\n",
    "    test=test[['exp_group','predict_1','predict_2','predict_3']]\n",
    "    test.to_csv(\"./output/MBCF_uplift_\"+str(i)+\"uw_merged.csv\",index=False)\n",
    "\n",
    "\n",
    "predict_1=pd.read_csv(\"./output/MBCF_uplift_RCT1.csv\",header=None)\n",
    "predict_1.columns=['predict']\n",
    "predict_2=pd.read_csv(\"./output/MBCF_uplift_RCT2.csv\",header=None)\n",
    "predict_2.columns=['predict']\n",
    "predict_3=pd.read_csv(\"./output/MBCF_uplift_RCT3.csv\",header=None)\n",
    "predict_3.columns=['predict']\n",
    "predict_4=pd.read_csv(\"./output/MBCF_uplift_RCT4.csv\",header=None)\n",
    "predict_4.columns=['predict']\n",
    "predict_5=pd.read_csv(\"./output/MBCF_uplift_RCT5.csv\",header=None)\n",
    "predict_5.columns=['predict']\n",
    "predict_6=pd.read_csv(\"./output/MBCF_uplift_RCT6.csv\",header=None)\n",
    "predict_6.columns=['predict']\n",
    "predict_7=pd.read_csv(\"./output/MBCF_uplift_RCT7.csv\",header=None)\n",
    "predict_7.columns=['predict']\n",
    "test=pd.read_csv(\"../../../Data/RCT_data/test_data_MBCF.csv\",sep=' ',header=None)\n",
    "test['predict_1']=predict_1['predict']\n",
    "test['predict_2']=predict_2['predict']\n",
    "test['predict_3']=predict_3['predict']\n",
    "test['predict_7']=predict_7['predict']\n",
    "test['predict_4']=predict_4['predict']\n",
    "test['predict_5']=predict_5['predict']\n",
    "test['predict_6']=predict_6['predict']\n",
    "test=test[[15,'predict_1','predict_2','predict_3','predict_4','predict_5','predict_6','predict_7']]\n",
    "test.columns=['exp_group','predict_1','predict_2','predict_3','predict_4','predict_5','predict_6','predict_7']\n",
    "test.to_csv(\"./output/MBCF_uplift_RCT_merged.csv\",index=False)\n",
    "# predict_multi=pd.read_csv(\"WWW2021_MAPG_multi_predict_10w_1022.csv\",header=None)\n",
    "# predict_multi.columns=['predict_1','predict_2','predict_3','predict_4','predict_5','predict_6','predict_7']\n",
    "# test=pd.read_csv(\"WWWW_MAPG_test_10w.csv\")\n",
    "# test['predict_1']=predict_multi['predict_1']\n",
    "# test['predict_2']=predict_multi['predict_2']\n",
    "# test['predict_3']=predict_multi['predict_3']\n",
    "# test['predict_4']=predict_multi['predict_4']\n",
    "# test['predict_5']=predict_multi['predict_5']\n",
    "# test['predict_6']=predict_multi['predict_6']\n",
    "# test['predict_7']=predict_multi['predict_7']\n",
    "# # test['predict_4']=predict_4['predict']\n",
    "# # test.head()\n",
    "# test=test[['exp_group','predict_1','predict_2','predict_3','predict_4','predict_5','predict_6','predict_7']]\n",
    "# test.head()\n",
    "# test.to_csv(\"WWW2021_MAPG_multi_predict_all_10w_1022.csv\",index=False)\n",
    "\n"
   ]
  },
  {
   "cell_type": "code",
   "execution_count": null,
   "id": "formal-quarter",
   "metadata": {},
   "outputs": [],
   "source": []
  },
  {
   "cell_type": "code",
   "execution_count": null,
   "id": "usual-heater",
   "metadata": {},
   "outputs": [],
   "source": []
  }
 ],
 "metadata": {
  "kernelspec": {
   "display_name": "Python 3",
   "language": "python",
   "name": "python3"
  },
  "language_info": {
   "codemirror_mode": {
    "name": "ipython",
    "version": 3
   },
   "file_extension": ".py",
   "mimetype": "text/x-python",
   "name": "python",
   "nbconvert_exporter": "python",
   "pygments_lexer": "ipython3",
   "version": "3.7.10"
  }
 },
 "nbformat": 4,
 "nbformat_minor": 5
}
