{
 "cells": [
  {
   "cell_type": "code",
   "execution_count": 8,
   "id": "atmospheric-excerpt",
   "metadata": {},
   "outputs": [],
   "source": [
    "import pandas as pd\n",
    "import numpy as np\n",
    "import seaborn as sns\n",
    "import matplotlib.pyplot as plt"
   ]
  },
  {
   "cell_type": "code",
   "execution_count": 9,
   "id": "verified-screen",
   "metadata": {},
   "outputs": [],
   "source": [
    "budget_list = [\n",
    "    300,400,500,600,700,\n",
    "    300,400,500,600,700,\n",
    "    300,400,500,600,700,\n",
    "    300,400,500,600,700,\n",
    "    300,400,500,600,700,\n",
    "    300,400,500,600,700,\n",
    "]\n",
    "name = [\n",
    "    '300RCT_Chi_final','400RCT_Chi_final', '500RCT_Chi_final','600RCT_Chi_final', '700RCT_Chi_final',\n",
    "    '300RCT_CTS_final','400RCT_CTS_final','500RCT_CTS_final','600RCT_CTS_final','700RCT_CTS_final',\n",
    "    '300RCT_ED_final','400RCT_ED_final','500RCT_ED_final','600RCT_ED_final','700RCT_ED_final',\n",
    "    '300RCT_CF_DT_final','400RCT_CF_DT_final','500RCT_CF_DT_final','600RCT_CF_DT_final','700RCT_CF_DT_final',\n",
    "    '300RCT_CT_ST_final','400RCT_CT_ST_final','500RCT_CT_ST_final','600RCT_CT_ST_final','700RCT_CT_ST_final',\n",
    "    '300RCT_LBCF_final','400RCT_LBCF_final','500RCT_LBCF_final','600RCT_LBCF_final','700RCT_LBCF_final'\n",
    "]\n",
    "file_name = [\n",
    "    '300RCT_Chi_final','400RCT_Chi_final', '500RCT_Chi_final','600RCT_Chi_final', '700RCT_Chi_final',\n",
    "    '300RCT_CTS_final','400RCT_CTS_final','500RCT_CTS_final','600RCT_CTS_final','700RCT_CTS_final',\n",
    "    '300RCT_ED_final','400RCT_ED_final','500RCT_ED_final','600RCT_ED_final','700RCT_ED_final',\n",
    "    '300RCT_CF_DT_final','400RCT_CF_DT_final','500RCT_CF_DT_final','600RCT_CF_DT_final','700RCT_CF_DT_final',\n",
    "    '300RCT_CT_ST_final','400RCT_CT_ST_final','500RCT_CT_ST_final','600RCT_CT_ST_final','700RCT_CT_ST_final',\n",
    "    '300RCT_LBCF_final','400RCT_LBCF_final','500RCT_LBCF_final','600RCT_LBCF_final','700RCT_LBCF_final'\n",
    "]"
   ]
  },
  {
   "cell_type": "code",
   "execution_count": 10,
   "id": "saving-hudson",
   "metadata": {},
   "outputs": [],
   "source": [
    "file_name[0] = pd.read_csv('../Model/Chi_ED_CTS/300RCT_Chi_final.csv')\n",
    "file_name[1] = pd.read_csv('../Model/Chi_ED_CTS/400RCT_Chi_final.csv')\n",
    "file_name[2] = pd.read_csv('../Model/Chi_ED_CTS/500RCT_Chi_final.csv')\n",
    "file_name[3] = pd.read_csv('../Model/Chi_ED_CTS/600RCT_Chi_final.csv')\n",
    "file_name[4] = pd.read_csv('../Model/Chi_ED_CTS/700RCT_Chi_final.csv')\n",
    "\n",
    "file_name[5] = pd.read_csv('../Model/Chi_ED_CTS/300RCT_CTS_final.csv')\n",
    "file_name[6] = pd.read_csv('../Model/Chi_ED_CTS/400RCT_CTS_final.csv')\n",
    "file_name[7] = pd.read_csv('../Model/Chi_ED_CTS/500RCT_CTS_final.csv')\n",
    "file_name[8] = pd.read_csv('../Model/Chi_ED_CTS/600RCT_CTS_final.csv')\n",
    "file_name[9] = pd.read_csv('../Model/Chi_ED_CTS/700RCT_CTS_final.csv')\n",
    "\n",
    "file_name[10] = pd.read_csv('../Model/Chi_ED_CTS/300RCT_ED_final.csv')\n",
    "file_name[11] = pd.read_csv('../Model/Chi_ED_CTS/400RCT_ED_final.csv')\n",
    "file_name[12] = pd.read_csv('../Model/Chi_ED_CTS/500RCT_ED_final.csv')\n",
    "file_name[13] = pd.read_csv('../Model/Chi_ED_CTS/600RCT_ED_final.csv')\n",
    "file_name[14] = pd.read_csv('../Model/Chi_ED_CTS/700RCT_ED_final.csv')\n",
    "\n",
    "file_name[15] = pd.read_csv('../Model/CF_DT/300RCT_CF_DT_final.csv')\n",
    "file_name[16] = pd.read_csv('../Model/CF_DT/400RCT_CF_DT_final.csv')\n",
    "file_name[17] = pd.read_csv('../Model/CF_DT/500RCT_CF_DT_final.csv')\n",
    "file_name[18] = pd.read_csv('../Model/CF_DT/600RCT_CF_DT_final.csv')\n",
    "file_name[19] = pd.read_csv('../Model/CF_DT/700RCT_CF_DT_final.csv')\n",
    "\n",
    "file_name[20] = pd.read_csv('../Model/CT_ST/300RCT_CT_ST_final.csv')\n",
    "file_name[21] = pd.read_csv('../Model/CT_ST/400RCT_CT_ST_final.csv')\n",
    "file_name[22] = pd.read_csv('../Model/CT_ST/500RCT_CT_ST_final.csv')\n",
    "file_name[23] = pd.read_csv('../Model/CT_ST/600RCT_CT_ST_final.csv')\n",
    "file_name[24] = pd.read_csv('../Model/CT_ST/700RCT_CT_ST_final.csv')\n",
    "\n",
    "file_name[25] = pd.read_csv('../Model/LBCF/300RCT_LBCF_final.csv')\n",
    "file_name[26] = pd.read_csv('../Model/LBCF/400RCT_LBCF_final.csv')\n",
    "file_name[27] = pd.read_csv('../Model/LBCF/500RCT_LBCF_final.csv')\n",
    "file_name[28] = pd.read_csv('../Model/LBCF/600RCT_LBCF_final.csv')\n",
    "file_name[29] = pd.read_csv('../Model/LBCF/700RCT_LBCF_final.csv')\n"
   ]
  },
  {
   "cell_type": "code",
   "execution_count": 11,
   "id": "developmental-innocent",
   "metadata": {},
   "outputs": [],
   "source": [
    "PMG = dict()\n",
    "name_list=['Chi','CTS','ED','CF_DT','CT_ST','LBCF']\n",
    "for i in range(30):\n",
    "    df_overlap_summary = file_name[i][['label','tmp_label']].groupby('tmp_label') \\\n",
    "           .agg({'tmp_label':'size', 'label':'mean'}) \\\n",
    "           .rename(columns={'tmp_label':'count','label':'mean'}) \\\n",
    "           .reset_index()\n",
    "    df_stg_summary = file_name[i].groupby('final_coin')\\\n",
    "                    .count().reset_index().rename(columns={'treatment':'num_stg_treatment'})[['final_coin','num_stg_treatment']]\n",
    "    df_summary = df_overlap_summary.merge(df_stg_summary,how = 'inner',left_on = 'tmp_label', right_on = 'final_coin')\n",
    "    total_gain = sum(df_summary['mean'] * df_summary['num_stg_treatment'])\n",
    "    total_count = df_summary.num_stg_treatment.sum()\n",
    "    avg_gain = total_gain/total_count\n",
    "    base = file_name[i][file_name[i].treatment == 0.1].label.mean()\n",
    "    gain = (avg_gain - base)/base\n",
    "    m = int(i/5)\n",
    "    PMG[name[i]] = [name_list[m],budget_list[i],gain]\n",
    "    "
   ]
  },
  {
   "cell_type": "code",
   "execution_count": 12,
   "id": "resistant-suggestion",
   "metadata": {},
   "outputs": [],
   "source": [
    "df_final = pd.DataFrame.from_dict(PMG,orient='index').reset_index()\n",
    "df_final.columns = ['fullname','Methods','Budget','Percentage Mean Gain']"
   ]
  },
  {
   "cell_type": "code",
   "execution_count": 15,
   "id": "reverse-anger",
   "metadata": {},
   "outputs": [
    {
     "data": {
      "image/png": "[encoded data removed]",
      "text/plain": [
       "<Figure size 432x288 with 1 Axes>"
      ]
     },
     "metadata": {
      "needs_background": "light"
     },
     "output_type": "display_data"
    }
   ],
   "source": [
    "sns.lineplot(data=df_final, x=\"Budget\", y=\"Percentage Mean Gain\", hue=\"Methods\")\n",
    "# plt.legend(loc='right')\n",
    "# plt.yticks([0, 0.01, 0.02, 0.03, 0.04, 0.05, 0.06, 0.07, 0.08],['0', '1%', '2%', '3%', '4%', '5%', '6%', '7%', '8%'])\n",
    "# # plt.show()\n",
    "plt.savefig('../../Images/Percentage Mean Gain')\n",
    "# plt.close()"
   ]
  },
  {
   "cell_type": "code",
   "execution_count": null,
   "id": "naked-cruise",
   "metadata": {},
   "outputs": [],
   "source": []
  }
 ],
 "metadata": {
  "kernelspec": {
   "display_name": "Python 3",
   "language": "python",
   "name": "python3"
  },
  "language_info": {
   "codemirror_mode": {
    "name": "ipython",
    "version": 3
   },
   "file_extension": ".py",
   "mimetype": "text/x-python",
   "name": "python",
   "nbconvert_exporter": "python",
   "pygments_lexer": "ipython3",
   "version": "3.7.10"
  }
 },
 "nbformat": 4,
 "nbformat_minor": 5
}
