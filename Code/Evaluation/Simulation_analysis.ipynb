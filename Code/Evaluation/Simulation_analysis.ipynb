{
 "cells": [
  {
   "cell_type": "code",
   "execution_count": 7,
   "id": "resistant-pioneer",
   "metadata": {},
   "outputs": [],
   "source": [
    "import pandas as pd\n",
    "import numpy as np\n",
    "import seaborn as sns"
   ]
  },
  {
   "cell_type": "code",
   "execution_count": 2,
   "id": "opposed-leonard",
   "metadata": {},
   "outputs": [],
   "source": [
    "uncertaintyW = [\n",
    "    '5','10','15','20'\n",
    "    ,'5','10','15','20'\n",
    "    ,'5','10','15','20'\n",
    "    ,'5','10','15','20'\n",
    "    ,'5','10','15','20'\n",
    "    ,'5','10','15','20'\n",
    "]\n",
    "name = [\n",
    "    '5Chi','10Chi','15Chi','20Chi'\n",
    "    ,'5ED','10ED','15ED','20ED'\n",
    "    ,'5CTS','10CTS','15CTS','20CTS'\n",
    "    ,'5CF_DT','10CF_DT','15CF_DT','20CF_DT'\n",
    "    ,'5CT_ST','10CT_ST','15CT_ST','20CT_ST'\n",
    "    ,'5LBCF','10LBCF','15LBCF','20LBCF'\n",
    "]\n",
    "file_name = [\n",
    "    '5Chi_final','10Chi_final','15Chi_final','20Chi_final'\n",
    "    ,'5ED_final','10ED_final','15ED_final','20ED_final'\n",
    "    ,'5CTS_final','10CTS_final','15CTS_final','20CTS_final'\n",
    "    ,'5CF_DT_final','10CF_DT_final','15CF_DT_final','20CF_DT_final'\n",
    "    ,'5CT_ST_final','10CT_ST_final','15CT_ST_final','20CT_ST_final'\n",
    "    ,'5LBCF_final','10LBCF_final','15LBCF_final','20LBCF_final'\n",
    "]"
   ]
  },
  {
   "cell_type": "code",
   "execution_count": 3,
   "id": "social-literature",
   "metadata": {},
   "outputs": [],
   "source": [
    "file_name[0] = pd.read_csv('../Model/Chi_ED_CTS/5Chi_final')\n",
    "file_name[1] = pd.read_csv('../Model/Chi_ED_CTS/10Chi_final')\n",
    "file_name[2] = pd.read_csv('../Model/Chi_ED_CTS/15Chi_final')\n",
    "file_name[3] = pd.read_csv('../Model/Chi_ED_CTS/20Chi_final')\n",
    "file_name[4] = pd.read_csv('../Model/Chi_ED_CTS/5ED_final')\n",
    "file_name[5] = pd.read_csv('../Model/Chi_ED_CTS/10ED_final')\n",
    "file_name[6] = pd.read_csv('../Model/Chi_ED_CTS/15ED_final')\n",
    "file_name[7] = pd.read_csv('../Model/Chi_ED_CTS/20ED_final')\n",
    "file_name[8] = pd.read_csv('../Model/Chi_ED_CTS/5CTS_final')\n",
    "file_name[9] = pd.read_csv('../Model/Chi_ED_CTS/10CTS_final')\n",
    "file_name[10] = pd.read_csv('../Model/Chi_ED_CTS/15CTS_final')\n",
    "file_name[11] = pd.read_csv('../Model/Chi_ED_CTS/20CTS_final')\n",
    "file_name[12] = pd.read_csv('../Model/CF_DT/5CF_DT_final')\n",
    "file_name[13] = pd.read_csv('../Model/CF_DT/10CF_DT_final')\n",
    "file_name[14] = pd.read_csv('../Model/CF_DT/15CF_DT_final')\n",
    "file_name[15] = pd.read_csv('../Model/CF_DT/20CF_DT_final')\n",
    "file_name[16] = pd.read_csv('../Model/CT_ST/5CT_ST_final')\n",
    "file_name[17] = pd.read_csv('../Model/CT_ST/10CT_ST_final')\n",
    "file_name[18] = pd.read_csv('../Model/CT_ST/15CT_ST_final')\n",
    "file_name[19] = pd.read_csv('../Model/CT_ST/20CT_ST_final')\n",
    "file_name[20] = pd.read_csv('../Model/LBCF/5LBCF_final')\n",
    "file_name[21] = pd.read_csv('../Model/LBCF/10LBCF_final')\n",
    "file_name[22] = pd.read_csv('../Model/LBCF/15LBCF_final')\n",
    "file_name[23] = pd.read_csv('../Model/LBCF/20LBCF_final')"
   ]
  },
  {
   "cell_type": "code",
   "execution_count": 4,
   "id": "elegant-bosnia",
   "metadata": {},
   "outputs": [],
   "source": [
    "ITE = dict()\n",
    "name_list=['Chi','ED','CTS','CF_DT','CT_ST','LBCF']\n",
    "for i in range(24):\n",
    "    file_name[i]['ITE'] = file_name[i]['final_treatment_value'] - file_name[i]['value0']\n",
    "    m = int(i/4)\n",
    "    ITE[name[i]] = [uncertaintyW[i],name_list[m],file_name[i]['ITE'].sum()/file_name[i]['value0'].sum()]"
   ]
  },
  {
   "cell_type": "code",
   "execution_count": 5,
   "id": "deluxe-forwarding",
   "metadata": {},
   "outputs": [],
   "source": [
    "df_final = pd.DataFrame.from_dict(ITE,orient='index').reset_index()\n",
    "df_final.columns = ['fullname','uncertaintyW','name','ITE']"
   ]
  },
  {
   "cell_type": "code",
   "execution_count": 13,
   "id": "quarterly-helen",
   "metadata": {},
   "outputs": [
    {
     "name": "stderr",
     "output_type": "stream",
     "text": [
      "/opt/conda/envs/rapids/lib/python3.7/site-packages/seaborn/categorical.py:3714: UserWarning: The `factorplot` function has been renamed to `catplot`. The original name will be removed in a future release. Please update your code. Note that the default `kind` in `factorplot` (`'point'`) has changed `'strip'` in `catplot`.\n",
      "  warnings.warn(msg)\n"
     ]
    },
    {
     "data": {
      "image/png": "[encoded data removed]",
      "text/plain": [
       "<Figure size 427.375x360 with 1 Axes>"
      ]
     },
     "metadata": {
      "needs_background": "light"
     },
     "output_type": "display_data"
    }
   ],
   "source": [
    "fig = sns.factorplot(x='uncertaintyW', y='ITE', hue='name', data=df_final, kind='bar')\n",
    "fig.savefig('../../Images/ITE')"
   ]
  },
  {
   "cell_type": "code",
   "execution_count": null,
   "id": "animal-turkey",
   "metadata": {},
   "outputs": [],
   "source": []
  }
 ],
 "metadata": {
  "kernelspec": {
   "display_name": "Python 3",
   "language": "python",
   "name": "python3"
  },
  "language_info": {
   "codemirror_mode": {
    "name": "ipython",
    "version": 3
   },
   "file_extension": ".py",
   "mimetype": "text/x-python",
   "name": "python",
   "nbconvert_exporter": "python",
   "pygments_lexer": "ipython3",
   "version": "3.7.10"
  }
 },
 "nbformat": 4,
 "nbformat_minor": 5
}
